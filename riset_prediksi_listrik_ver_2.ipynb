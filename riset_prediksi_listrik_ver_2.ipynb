{
  "nbformat": 4,
  "nbformat_minor": 0,
  "metadata": {
    "accelerator": "GPU",
    "colab": {
      "name": "riset prediksi listrik ver-2.ipynb",
      "provenance": [],
      "collapsed_sections": [],
      "include_colab_link": true
    },
    "kernelspec": {
      "display_name": "Python 3",
      "name": "python3"
    }
  },
  "cells": [
    {
      "cell_type": "markdown",
      "metadata": {
        "id": "view-in-github",
        "colab_type": "text"
      },
      "source": [
        "<a href=\"https://colab.research.google.com/github/angeloken/Riset-I-smile/blob/main/riset_prediksi_listrik_ver_2.ipynb\" target=\"_parent\"><img src=\"https://colab.research.google.com/assets/colab-badge.svg\" alt=\"Open In Colab\"/></a>"
      ]
    },
    {
      "cell_type": "code",
      "metadata": {
        "id": "56XEQOGknrAk"
      },
      "source": [
        "from datetime import datetime, timedelta\n",
        "from dateutil import parser\n",
        "import numpy as np \n",
        "import pandas as pd\n",
        "import matplotlib.pyplot as plt\n",
        "import seaborn as sns\n",
        "from sklearn.model_selection import train_test_split\n",
        "from sklearn.preprocessing import StandardScaler\n",
        "from sklearn.preprocessing import MinMaxScaler\n",
        "from keras.layers import Dense\n",
        "from keras.models import Sequential\n",
        "from keras.layers import LSTM\n",
        "from datetime import datetime\n",
        "import requests\n",
        "import tensorflow as tf\n",
        "from sklearn.metrics import explained_variance_score\n",
        "from sklearn.metrics import mean_absolute_error\n",
        "from sklearn.metrics import mean_squared_error\n",
        "from sklearn.metrics import r2_score"
      ],
      "execution_count": 2,
      "outputs": []
    },
    {
      "cell_type": "code",
      "metadata": {
        "id": "sLl52leVp5wU"
      },
      "source": [
        "\n",
        "def plot_series(time, series, format=\"-\", start=0, end=None):\n",
        "    plt.plot(time[start:end], series[start:end], format)\n",
        "    plt.xlabel(\"Time\")\n",
        "    plt.ylabel(\"Value\")\n",
        "    plt.grid(True)"
      ],
      "execution_count": 3,
      "outputs": []
    },
    {
      "cell_type": "code",
      "metadata": {
        "id": "QHThKXa2aCOz"
      },
      "source": [
        "\n",
        "df = pd.read_csv('/content/opsd_germany_daily.csv')"
      ],
      "execution_count": 4,
      "outputs": []
    },
    {
      "cell_type": "code",
      "metadata": {
        "id": "RservD8dJbbZ",
        "colab": {
          "base_uri": "https://localhost:8080/",
          "height": 419
        },
        "outputId": "f22b1f79-bde8-4c71-ae4e-2e47af5fd70d"
      },
      "source": [
        "df"
      ],
      "execution_count": 5,
      "outputs": [
        {
          "output_type": "execute_result",
          "data": {
            "text/html": [
              "<div>\n",
              "<style scoped>\n",
              "    .dataframe tbody tr th:only-of-type {\n",
              "        vertical-align: middle;\n",
              "    }\n",
              "\n",
              "    .dataframe tbody tr th {\n",
              "        vertical-align: top;\n",
              "    }\n",
              "\n",
              "    .dataframe thead th {\n",
              "        text-align: right;\n",
              "    }\n",
              "</style>\n",
              "<table border=\"1\" class=\"dataframe\">\n",
              "  <thead>\n",
              "    <tr style=\"text-align: right;\">\n",
              "      <th></th>\n",
              "      <th>Date</th>\n",
              "      <th>Consumption</th>\n",
              "      <th>Wind</th>\n",
              "      <th>Solar</th>\n",
              "      <th>Wind+Solar</th>\n",
              "    </tr>\n",
              "  </thead>\n",
              "  <tbody>\n",
              "    <tr>\n",
              "      <th>0</th>\n",
              "      <td>2006-01-01</td>\n",
              "      <td>1069.18400</td>\n",
              "      <td>NaN</td>\n",
              "      <td>NaN</td>\n",
              "      <td>NaN</td>\n",
              "    </tr>\n",
              "    <tr>\n",
              "      <th>1</th>\n",
              "      <td>2006-01-02</td>\n",
              "      <td>1380.52100</td>\n",
              "      <td>NaN</td>\n",
              "      <td>NaN</td>\n",
              "      <td>NaN</td>\n",
              "    </tr>\n",
              "    <tr>\n",
              "      <th>2</th>\n",
              "      <td>2006-01-03</td>\n",
              "      <td>1442.53300</td>\n",
              "      <td>NaN</td>\n",
              "      <td>NaN</td>\n",
              "      <td>NaN</td>\n",
              "    </tr>\n",
              "    <tr>\n",
              "      <th>3</th>\n",
              "      <td>2006-01-04</td>\n",
              "      <td>1457.21700</td>\n",
              "      <td>NaN</td>\n",
              "      <td>NaN</td>\n",
              "      <td>NaN</td>\n",
              "    </tr>\n",
              "    <tr>\n",
              "      <th>4</th>\n",
              "      <td>2006-01-05</td>\n",
              "      <td>1477.13100</td>\n",
              "      <td>NaN</td>\n",
              "      <td>NaN</td>\n",
              "      <td>NaN</td>\n",
              "    </tr>\n",
              "    <tr>\n",
              "      <th>...</th>\n",
              "      <td>...</td>\n",
              "      <td>...</td>\n",
              "      <td>...</td>\n",
              "      <td>...</td>\n",
              "      <td>...</td>\n",
              "    </tr>\n",
              "    <tr>\n",
              "      <th>4378</th>\n",
              "      <td>2017-12-27</td>\n",
              "      <td>1263.94091</td>\n",
              "      <td>394.507</td>\n",
              "      <td>16.530</td>\n",
              "      <td>411.037</td>\n",
              "    </tr>\n",
              "    <tr>\n",
              "      <th>4379</th>\n",
              "      <td>2017-12-28</td>\n",
              "      <td>1299.86398</td>\n",
              "      <td>506.424</td>\n",
              "      <td>14.162</td>\n",
              "      <td>520.586</td>\n",
              "    </tr>\n",
              "    <tr>\n",
              "      <th>4380</th>\n",
              "      <td>2017-12-29</td>\n",
              "      <td>1295.08753</td>\n",
              "      <td>584.277</td>\n",
              "      <td>29.854</td>\n",
              "      <td>614.131</td>\n",
              "    </tr>\n",
              "    <tr>\n",
              "      <th>4381</th>\n",
              "      <td>2017-12-30</td>\n",
              "      <td>1215.44897</td>\n",
              "      <td>721.247</td>\n",
              "      <td>7.467</td>\n",
              "      <td>728.714</td>\n",
              "    </tr>\n",
              "    <tr>\n",
              "      <th>4382</th>\n",
              "      <td>2017-12-31</td>\n",
              "      <td>1107.11488</td>\n",
              "      <td>721.176</td>\n",
              "      <td>19.980</td>\n",
              "      <td>741.156</td>\n",
              "    </tr>\n",
              "  </tbody>\n",
              "</table>\n",
              "<p>4383 rows × 5 columns</p>\n",
              "</div>"
            ],
            "text/plain": [
              "            Date  Consumption     Wind   Solar  Wind+Solar\n",
              "0     2006-01-01   1069.18400      NaN     NaN         NaN\n",
              "1     2006-01-02   1380.52100      NaN     NaN         NaN\n",
              "2     2006-01-03   1442.53300      NaN     NaN         NaN\n",
              "3     2006-01-04   1457.21700      NaN     NaN         NaN\n",
              "4     2006-01-05   1477.13100      NaN     NaN         NaN\n",
              "...          ...          ...      ...     ...         ...\n",
              "4378  2017-12-27   1263.94091  394.507  16.530     411.037\n",
              "4379  2017-12-28   1299.86398  506.424  14.162     520.586\n",
              "4380  2017-12-29   1295.08753  584.277  29.854     614.131\n",
              "4381  2017-12-30   1215.44897  721.247   7.467     728.714\n",
              "4382  2017-12-31   1107.11488  721.176  19.980     741.156\n",
              "\n",
              "[4383 rows x 5 columns]"
            ]
          },
          "metadata": {},
          "execution_count": 5
        }
      ]
    },
    {
      "cell_type": "code",
      "metadata": {
        "id": "NcG9r1eClbTh",
        "colab": {
          "base_uri": "https://localhost:8080/"
        },
        "outputId": "10c4a7a6-a994-4997-cacb-757bfbb767a5"
      },
      "source": [
        "df = df[['Date','Consumption']]\n",
        "df['Date'] = pd.to_datetime(df['Date'])\n"
      ],
      "execution_count": 6,
      "outputs": [
        {
          "output_type": "stream",
          "text": [
            "/usr/local/lib/python3.7/dist-packages/ipykernel_launcher.py:2: SettingWithCopyWarning: \n",
            "A value is trying to be set on a copy of a slice from a DataFrame.\n",
            "Try using .loc[row_indexer,col_indexer] = value instead\n",
            "\n",
            "See the caveats in the documentation: https://pandas.pydata.org/pandas-docs/stable/user_guide/indexing.html#returning-a-view-versus-a-copy\n",
            "  \n"
          ],
          "name": "stderr"
        }
      ]
    },
    {
      "cell_type": "code",
      "metadata": {
        "id": "RfM9iIpObRIj"
      },
      "source": [
        "df.set_index(df['Date'],inplace=True)\n",
        "df=df.drop(['Date'],axis=1)"
      ],
      "execution_count": 7,
      "outputs": []
    },
    {
      "cell_type": "code",
      "metadata": {
        "colab": {
          "base_uri": "https://localhost:8080/"
        },
        "id": "hvEJdoG3bglX",
        "outputId": "2a5fe4c7-a797-4f6a-96b1-d0cb7768443f"
      },
      "source": [
        "df.info()"
      ],
      "execution_count": 8,
      "outputs": [
        {
          "output_type": "stream",
          "text": [
            "<class 'pandas.core.frame.DataFrame'>\n",
            "DatetimeIndex: 4383 entries, 2006-01-01 to 2017-12-31\n",
            "Data columns (total 1 columns):\n",
            " #   Column       Non-Null Count  Dtype  \n",
            "---  ------       --------------  -----  \n",
            " 0   Consumption  4383 non-null   float64\n",
            "dtypes: float64(1)\n",
            "memory usage: 68.5 KB\n"
          ],
          "name": "stdout"
        }
      ]
    },
    {
      "cell_type": "code",
      "metadata": {
        "id": "9zQ3eKlwJ9C3",
        "colab": {
          "base_uri": "https://localhost:8080/",
          "height": 450
        },
        "outputId": "42c68361-acea-4a1a-9fb3-c5ca99c34f7b"
      },
      "source": [
        "df"
      ],
      "execution_count": 9,
      "outputs": [
        {
          "output_type": "execute_result",
          "data": {
            "text/html": [
              "<div>\n",
              "<style scoped>\n",
              "    .dataframe tbody tr th:only-of-type {\n",
              "        vertical-align: middle;\n",
              "    }\n",
              "\n",
              "    .dataframe tbody tr th {\n",
              "        vertical-align: top;\n",
              "    }\n",
              "\n",
              "    .dataframe thead th {\n",
              "        text-align: right;\n",
              "    }\n",
              "</style>\n",
              "<table border=\"1\" class=\"dataframe\">\n",
              "  <thead>\n",
              "    <tr style=\"text-align: right;\">\n",
              "      <th></th>\n",
              "      <th>Consumption</th>\n",
              "    </tr>\n",
              "    <tr>\n",
              "      <th>Date</th>\n",
              "      <th></th>\n",
              "    </tr>\n",
              "  </thead>\n",
              "  <tbody>\n",
              "    <tr>\n",
              "      <th>2006-01-01</th>\n",
              "      <td>1069.18400</td>\n",
              "    </tr>\n",
              "    <tr>\n",
              "      <th>2006-01-02</th>\n",
              "      <td>1380.52100</td>\n",
              "    </tr>\n",
              "    <tr>\n",
              "      <th>2006-01-03</th>\n",
              "      <td>1442.53300</td>\n",
              "    </tr>\n",
              "    <tr>\n",
              "      <th>2006-01-04</th>\n",
              "      <td>1457.21700</td>\n",
              "    </tr>\n",
              "    <tr>\n",
              "      <th>2006-01-05</th>\n",
              "      <td>1477.13100</td>\n",
              "    </tr>\n",
              "    <tr>\n",
              "      <th>...</th>\n",
              "      <td>...</td>\n",
              "    </tr>\n",
              "    <tr>\n",
              "      <th>2017-12-27</th>\n",
              "      <td>1263.94091</td>\n",
              "    </tr>\n",
              "    <tr>\n",
              "      <th>2017-12-28</th>\n",
              "      <td>1299.86398</td>\n",
              "    </tr>\n",
              "    <tr>\n",
              "      <th>2017-12-29</th>\n",
              "      <td>1295.08753</td>\n",
              "    </tr>\n",
              "    <tr>\n",
              "      <th>2017-12-30</th>\n",
              "      <td>1215.44897</td>\n",
              "    </tr>\n",
              "    <tr>\n",
              "      <th>2017-12-31</th>\n",
              "      <td>1107.11488</td>\n",
              "    </tr>\n",
              "  </tbody>\n",
              "</table>\n",
              "<p>4383 rows × 1 columns</p>\n",
              "</div>"
            ],
            "text/plain": [
              "            Consumption\n",
              "Date                   \n",
              "2006-01-01   1069.18400\n",
              "2006-01-02   1380.52100\n",
              "2006-01-03   1442.53300\n",
              "2006-01-04   1457.21700\n",
              "2006-01-05   1477.13100\n",
              "...                 ...\n",
              "2017-12-27   1263.94091\n",
              "2017-12-28   1299.86398\n",
              "2017-12-29   1295.08753\n",
              "2017-12-30   1215.44897\n",
              "2017-12-31   1107.11488\n",
              "\n",
              "[4383 rows x 1 columns]"
            ]
          },
          "metadata": {},
          "execution_count": 9
        }
      ]
    },
    {
      "cell_type": "code",
      "metadata": {
        "colab": {
          "base_uri": "https://localhost:8080/",
          "height": 497
        },
        "id": "5rmTIwCxkDb7",
        "outputId": "60e5d51e-5ed8-4eeb-d837-f50399f7aae2"
      },
      "source": [
        "plt.figure(figsize=(17, 8))\n",
        "plt.plot(df['Consumption'])\n",
        "plt.xlabel('Time')\n",
        "plt.ylabel('electricity_consumption')\n",
        "plt.grid(False)\n",
        "plt.show()"
      ],
      "execution_count": 10,
      "outputs": [
        {
          "output_type": "display_data",
          "data": {
            "image/png": "[encoded data removed]",
            "text/plain": [
              "<Figure size 1224x576 with 1 Axes>"
            ]
          },
          "metadata": {
            "needs_background": "light"
          }
        }
      ]
    },
    {
      "cell_type": "code",
      "metadata": {
        "id": "L92YRw_IpCFG",
        "colab": {
          "base_uri": "https://localhost:8080/"
        },
        "outputId": "1ac3b73d-e8c2-4ade-fe1f-f18fc3742be0"
      },
      "source": [
        "dataset = df.values\n",
        "\n",
        "training_data_len = int(np.ceil( len(dataset) * .80))\n",
        "\n",
        "training_data_len\n"
      ],
      "execution_count": 11,
      "outputs": [
        {
          "output_type": "execute_result",
          "data": {
            "text/plain": [
              "3507"
            ]
          },
          "metadata": {},
          "execution_count": 11
        }
      ]
    },
    {
      "cell_type": "code",
      "metadata": {
        "id": "qFaMiTOcLo0n",
        "colab": {
          "base_uri": "https://localhost:8080/"
        },
        "outputId": "3e427765-b97b-4c87-87b4-a7c1787e58a2"
      },
      "source": [
        "scaler = MinMaxScaler()\n",
        "scaled_data = scaler.fit_transform(dataset)\n",
        "scaled_data"
      ],
      "execution_count": 12,
      "outputs": [
        {
          "output_type": "execute_result",
          "data": {
            "text/plain": [
              "array([[0.26152682],\n",
              "       [0.62055207],\n",
              "       [0.6920626 ],\n",
              "       ...,\n",
              "       [0.52203255],\n",
              "       [0.43019555],\n",
              "       [0.30526767]])"
            ]
          },
          "metadata": {},
          "execution_count": 12
        }
      ]
    },
    {
      "cell_type": "code",
      "metadata": {
        "id": "2jHLt6Y5Nbi8"
      },
      "source": [
        "# Create the training data set \n",
        "# Create the scaled training data set\n",
        "train_data = scaled_data[0:int(training_data_len), :]\n",
        "# Split the data into x_train and y_train data sets\n",
        "x_train = []\n",
        "y_train = []\n",
        "\n",
        "for i in range(30, len(train_data)):\n",
        "    x_train.append(train_data[i-30:i, 0])\n",
        "    y_train.append(train_data[i, 0])\n",
        "        \n",
        "# Convert the x_train and y_train to numpy arrays \n",
        "x_train, y_train = np.array(x_train), np.array(y_train)\n",
        "\n",
        "# Reshape the data\n",
        "x_train = np.reshape(x_train, (x_train.shape[0], x_train.shape[1], 1))"
      ],
      "execution_count": 13,
      "outputs": []
    },
    {
      "cell_type": "code",
      "metadata": {
        "colab": {
          "base_uri": "https://localhost:8080/"
        },
        "id": "AclfYY3Mn6Ph",
        "outputId": "d0b1a8bc-2f20-45ac-b0a5-679ca9f58181"
      },
      "source": [
        "tf.keras.backend.clear_session()\n",
        "tf.random.set_seed(51)\n",
        "np.random.seed(51)\n",
        "\n",
        "\n",
        "model = tf.keras.models.Sequential([\n",
        "  tf.keras.layers.LSTM(128, return_sequences=True,input_shape= (x_train.shape[1], 1)),\n",
        "  tf.keras.layers.LSTM(64, return_sequences=False),\n",
        "  tf.keras.layers.Dense(30, activation=\"relu\"),\n",
        "  tf.keras.layers.Dense(10, activation=\"relu\"),\n",
        "  tf.keras.layers.Dense(1),\n",
        "])\n",
        "\n",
        "lr_schedule = tf.keras.callbacks.LearningRateScheduler(\n",
        "    lambda epoch: 1e-8 * 10**(epoch / 20))\n",
        "optimizer = tf.keras.optimizers.SGD(lr=1e-8, momentum=0.9)\n",
        "model.compile(loss=tf.keras.losses.Huber(),\n",
        "              optimizer=optimizer,\n",
        "              metrics=[\"mae\"])\n",
        "history = model.fit(x_train,y_train, epochs=100, callbacks=[lr_schedule])\n"
      ],
      "execution_count": 14,
      "outputs": [
        {
          "output_type": "stream",
          "text": [
            "/usr/local/lib/python3.7/dist-packages/keras/optimizer_v2/optimizer_v2.py:356: UserWarning: The `lr` argument is deprecated, use `learning_rate` instead.\n",
            "  \"The `lr` argument is deprecated, use `learning_rate` instead.\")\n"
          ],
          "name": "stderr"
        },
        {
          "output_type": "stream",
          "text": [
            "Epoch 1/100\n",
            "109/109 [==============================] - 10s 18ms/step - loss: 0.1708 - mae: 0.5529\n",
            "Epoch 2/100\n",
            "109/109 [==============================] - 2s 18ms/step - loss: 0.1708 - mae: 0.5529\n",
            "Epoch 3/100\n",
            "109/109 [==============================] - 2s 18ms/step - loss: 0.1708 - mae: 0.5528\n",
            "Epoch 4/100\n",
            "109/109 [==============================] - 2s 18ms/step - loss: 0.1707 - mae: 0.5528\n",
            "Epoch 5/100\n",
            "109/109 [==============================] - 2s 18ms/step - loss: 0.1707 - mae: 0.5527\n",
            "Epoch 6/100\n",
            "109/109 [==============================] - 2s 18ms/step - loss: 0.1707 - mae: 0.5526\n",
            "Epoch 7/100\n",
            "109/109 [==============================] - 2s 18ms/step - loss: 0.1706 - mae: 0.5525\n",
            "Epoch 8/100\n",
            "109/109 [==============================] - 2s 18ms/step - loss: 0.1706 - mae: 0.5525\n",
            "Epoch 9/100\n",
            "109/109 [==============================] - 2s 18ms/step - loss: 0.1705 - mae: 0.5524\n",
            "Epoch 10/100\n",
            "109/109 [==============================] - 2s 18ms/step - loss: 0.1705 - mae: 0.5522\n",
            "Epoch 11/100\n",
            "109/109 [==============================] - 2s 18ms/step - loss: 0.1704 - mae: 0.5521\n",
            "Epoch 12/100\n",
            "109/109 [==============================] - 2s 18ms/step - loss: 0.1703 - mae: 0.5520\n",
            "Epoch 13/100\n",
            "109/109 [==============================] - 2s 18ms/step - loss: 0.1702 - mae: 0.5518\n",
            "Epoch 14/100\n",
            "109/109 [==============================] - 2s 18ms/step - loss: 0.1701 - mae: 0.5517\n",
            "Epoch 15/100\n",
            "109/109 [==============================] - 2s 18ms/step - loss: 0.1700 - mae: 0.5515\n",
            "Epoch 16/100\n",
            "109/109 [==============================] - 2s 18ms/step - loss: 0.1699 - mae: 0.5512\n",
            "Epoch 17/100\n",
            "109/109 [==============================] - 2s 18ms/step - loss: 0.1698 - mae: 0.5510\n",
            "Epoch 18/100\n",
            "109/109 [==============================] - 2s 18ms/step - loss: 0.1696 - mae: 0.5507\n",
            "Epoch 19/100\n",
            "109/109 [==============================] - 2s 18ms/step - loss: 0.1694 - mae: 0.5504\n",
            "Epoch 20/100\n",
            "109/109 [==============================] - 2s 18ms/step - loss: 0.1692 - mae: 0.5500\n",
            "Epoch 21/100\n",
            "109/109 [==============================] - 2s 18ms/step - loss: 0.1690 - mae: 0.5496\n",
            "Epoch 22/100\n",
            "109/109 [==============================] - 2s 18ms/step - loss: 0.1688 - mae: 0.5492\n",
            "Epoch 23/100\n",
            "109/109 [==============================] - 2s 18ms/step - loss: 0.1685 - mae: 0.5487\n",
            "Epoch 24/100\n",
            "109/109 [==============================] - 2s 18ms/step - loss: 0.1682 - mae: 0.5482\n",
            "Epoch 25/100\n",
            "109/109 [==============================] - 2s 18ms/step - loss: 0.1679 - mae: 0.5476\n",
            "Epoch 26/100\n",
            "109/109 [==============================] - 2s 18ms/step - loss: 0.1675 - mae: 0.5469\n",
            "Epoch 27/100\n",
            "109/109 [==============================] - 2s 18ms/step - loss: 0.1671 - mae: 0.5462\n",
            "Epoch 28/100\n",
            "109/109 [==============================] - 2s 18ms/step - loss: 0.1667 - mae: 0.5454\n",
            "Epoch 29/100\n",
            "109/109 [==============================] - 2s 18ms/step - loss: 0.1662 - mae: 0.5445\n",
            "Epoch 30/100\n",
            "109/109 [==============================] - 2s 18ms/step - loss: 0.1656 - mae: 0.5435\n",
            "Epoch 31/100\n",
            "109/109 [==============================] - 2s 18ms/step - loss: 0.1651 - mae: 0.5424\n",
            "Epoch 32/100\n",
            "109/109 [==============================] - 2s 18ms/step - loss: 0.1644 - mae: 0.5412\n",
            "Epoch 33/100\n",
            "109/109 [==============================] - 2s 18ms/step - loss: 0.1637 - mae: 0.5399\n",
            "Epoch 34/100\n",
            "109/109 [==============================] - 2s 18ms/step - loss: 0.1629 - mae: 0.5384\n",
            "Epoch 35/100\n",
            "109/109 [==============================] - 2s 18ms/step - loss: 0.1620 - mae: 0.5368\n",
            "Epoch 36/100\n",
            "109/109 [==============================] - 2s 18ms/step - loss: 0.1610 - mae: 0.5350\n",
            "Epoch 37/100\n",
            "109/109 [==============================] - 2s 18ms/step - loss: 0.1599 - mae: 0.5330\n",
            "Epoch 38/100\n",
            "109/109 [==============================] - 2s 18ms/step - loss: 0.1588 - mae: 0.5308\n",
            "Epoch 39/100\n",
            "109/109 [==============================] - 2s 18ms/step - loss: 0.1575 - mae: 0.5284\n",
            "Epoch 40/100\n",
            "109/109 [==============================] - 2s 18ms/step - loss: 0.1561 - mae: 0.5258\n",
            "Epoch 41/100\n",
            "109/109 [==============================] - 2s 18ms/step - loss: 0.1546 - mae: 0.5230\n",
            "Epoch 42/100\n",
            "109/109 [==============================] - 2s 18ms/step - loss: 0.1530 - mae: 0.5199\n",
            "Epoch 43/100\n",
            "109/109 [==============================] - 2s 18ms/step - loss: 0.1513 - mae: 0.5168\n",
            "Epoch 44/100\n",
            "109/109 [==============================] - 2s 18ms/step - loss: 0.1496 - mae: 0.5135\n",
            "Epoch 45/100\n",
            "109/109 [==============================] - 2s 18ms/step - loss: 0.1478 - mae: 0.5101\n",
            "Epoch 46/100\n",
            "109/109 [==============================] - 2s 18ms/step - loss: 0.1460 - mae: 0.5066\n",
            "Epoch 47/100\n",
            "109/109 [==============================] - 2s 18ms/step - loss: 0.1441 - mae: 0.5029\n",
            "Epoch 48/100\n",
            "109/109 [==============================] - 2s 18ms/step - loss: 0.1421 - mae: 0.4989\n",
            "Epoch 49/100\n",
            "109/109 [==============================] - 2s 18ms/step - loss: 0.1399 - mae: 0.4945\n",
            "Epoch 50/100\n",
            "109/109 [==============================] - 2s 18ms/step - loss: 0.1375 - mae: 0.4896\n",
            "Epoch 51/100\n",
            "109/109 [==============================] - 2s 18ms/step - loss: 0.1348 - mae: 0.4843\n",
            "Epoch 52/100\n",
            "109/109 [==============================] - 2s 18ms/step - loss: 0.1320 - mae: 0.4784\n",
            "Epoch 53/100\n",
            "109/109 [==============================] - 2s 18ms/step - loss: 0.1289 - mae: 0.4720\n",
            "Epoch 54/100\n",
            "109/109 [==============================] - 2s 18ms/step - loss: 0.1256 - mae: 0.4650\n",
            "Epoch 55/100\n",
            "109/109 [==============================] - 2s 18ms/step - loss: 0.1221 - mae: 0.4575\n",
            "Epoch 56/100\n",
            "109/109 [==============================] - 2s 18ms/step - loss: 0.1184 - mae: 0.4496\n",
            "Epoch 57/100\n",
            "109/109 [==============================] - 2s 18ms/step - loss: 0.1146 - mae: 0.4412\n",
            "Epoch 58/100\n",
            "109/109 [==============================] - 2s 18ms/step - loss: 0.1106 - mae: 0.4322\n",
            "Epoch 59/100\n",
            "109/109 [==============================] - 2s 18ms/step - loss: 0.1064 - mae: 0.4227\n",
            "Epoch 60/100\n",
            "109/109 [==============================] - 2s 18ms/step - loss: 0.1020 - mae: 0.4124\n",
            "Epoch 61/100\n",
            "109/109 [==============================] - 2s 18ms/step - loss: 0.0973 - mae: 0.4014\n",
            "Epoch 62/100\n",
            "109/109 [==============================] - 2s 18ms/step - loss: 0.0924 - mae: 0.3893\n",
            "Epoch 63/100\n",
            "109/109 [==============================] - 2s 18ms/step - loss: 0.0872 - mae: 0.3764\n",
            "Epoch 64/100\n",
            "109/109 [==============================] - 2s 18ms/step - loss: 0.0818 - mae: 0.3626\n",
            "Epoch 65/100\n",
            "109/109 [==============================] - 2s 18ms/step - loss: 0.0762 - mae: 0.3479\n",
            "Epoch 66/100\n",
            "109/109 [==============================] - 2s 18ms/step - loss: 0.0704 - mae: 0.3324\n",
            "Epoch 67/100\n",
            "109/109 [==============================] - 2s 18ms/step - loss: 0.0646 - mae: 0.3165\n",
            "Epoch 68/100\n",
            "109/109 [==============================] - 2s 18ms/step - loss: 0.0587 - mae: 0.3001\n",
            "Epoch 69/100\n",
            "109/109 [==============================] - 2s 18ms/step - loss: 0.0529 - mae: 0.2838\n",
            "Epoch 70/100\n",
            "109/109 [==============================] - 2s 18ms/step - loss: 0.0473 - mae: 0.2674\n",
            "Epoch 71/100\n",
            "109/109 [==============================] - 2s 18ms/step - loss: 0.0419 - mae: 0.2515\n",
            "Epoch 72/100\n",
            "109/109 [==============================] - 2s 18ms/step - loss: 0.0369 - mae: 0.2363\n",
            "Epoch 73/100\n",
            "109/109 [==============================] - 2s 18ms/step - loss: 0.0325 - mae: 0.2221\n",
            "Epoch 74/100\n",
            "109/109 [==============================] - 2s 18ms/step - loss: 0.0285 - mae: 0.2089\n",
            "Epoch 75/100\n",
            "109/109 [==============================] - 2s 18ms/step - loss: 0.0252 - mae: 0.1973\n",
            "Epoch 76/100\n",
            "109/109 [==============================] - 2s 18ms/step - loss: 0.0226 - mae: 0.1870\n",
            "Epoch 77/100\n",
            "109/109 [==============================] - 2s 18ms/step - loss: 0.0205 - mae: 0.1780\n",
            "Epoch 78/100\n",
            "109/109 [==============================] - 2s 18ms/step - loss: 0.0190 - mae: 0.1708\n",
            "Epoch 79/100\n",
            "109/109 [==============================] - 2s 19ms/step - loss: 0.0180 - mae: 0.1649\n",
            "Epoch 80/100\n",
            "109/109 [==============================] - 2s 18ms/step - loss: 0.0174 - mae: 0.1604\n",
            "Epoch 81/100\n",
            "109/109 [==============================] - 2s 18ms/step - loss: 0.0171 - mae: 0.1571\n",
            "Epoch 82/100\n",
            "109/109 [==============================] - 2s 18ms/step - loss: 0.0169 - mae: 0.1549\n",
            "Epoch 83/100\n",
            "109/109 [==============================] - 2s 19ms/step - loss: 0.0168 - mae: 0.1535\n",
            "Epoch 84/100\n",
            "109/109 [==============================] - 2s 19ms/step - loss: 0.0167 - mae: 0.1526\n",
            "Epoch 85/100\n",
            "109/109 [==============================] - 2s 19ms/step - loss: 0.0167 - mae: 0.1518\n",
            "Epoch 86/100\n",
            "109/109 [==============================] - 2s 18ms/step - loss: 0.0167 - mae: 0.1516\n",
            "Epoch 87/100\n",
            "109/109 [==============================] - 2s 18ms/step - loss: 0.0167 - mae: 0.1514\n",
            "Epoch 88/100\n",
            "109/109 [==============================] - 2s 18ms/step - loss: 0.0166 - mae: 0.1512\n",
            "Epoch 89/100\n",
            "109/109 [==============================] - 2s 18ms/step - loss: 0.0166 - mae: 0.1510\n",
            "Epoch 90/100\n",
            "109/109 [==============================] - 2s 18ms/step - loss: 0.0166 - mae: 0.1511\n",
            "Epoch 91/100\n",
            "109/109 [==============================] - 2s 18ms/step - loss: 0.0166 - mae: 0.1510\n",
            "Epoch 92/100\n",
            "109/109 [==============================] - 2s 18ms/step - loss: 0.0166 - mae: 0.1512\n",
            "Epoch 93/100\n",
            "109/109 [==============================] - 2s 18ms/step - loss: 0.0166 - mae: 0.1509\n",
            "Epoch 94/100\n",
            "109/109 [==============================] - 2s 18ms/step - loss: 0.0165 - mae: 0.1509\n",
            "Epoch 95/100\n",
            "109/109 [==============================] - 2s 18ms/step - loss: 0.0165 - mae: 0.1508\n",
            "Epoch 96/100\n",
            "109/109 [==============================] - 2s 18ms/step - loss: 0.0165 - mae: 0.1506\n",
            "Epoch 97/100\n",
            "109/109 [==============================] - 2s 18ms/step - loss: 0.0165 - mae: 0.1505\n",
            "Epoch 98/100\n",
            "109/109 [==============================] - 2s 18ms/step - loss: 0.0164 - mae: 0.1507\n",
            "Epoch 99/100\n",
            "109/109 [==============================] - 2s 18ms/step - loss: 0.0164 - mae: 0.1502\n",
            "Epoch 100/100\n",
            "109/109 [==============================] - 2s 18ms/step - loss: 0.0163 - mae: 0.1499\n"
          ],
          "name": "stdout"
        }
      ]
    },
    {
      "cell_type": "code",
      "metadata": {
        "id": "xbCBxg0eWKEk"
      },
      "source": [
        "# Create the testing data set\n",
        "# Create a new array containing scaled values\n",
        "test_data = scaled_data\n",
        "# Create the data sets x_test and y_test\n",
        "x_test = []\n",
        "y_test = dataset[30:, :]\n",
        "for i in range(30, len(test_data)):\n",
        "    x_test.append(test_data[i-30:i, 0])\n",
        "    \n",
        "# Convert the data to a numpy array\n",
        "x_test = np.array(x_test)\n",
        "\n",
        "# Reshape the data\n",
        "x_test = np.reshape(x_test, (x_test.shape[0], x_test.shape[1], 1 ))\n",
        "\n",
        "# Get the models predicted price values \n",
        "predictions = model.predict(x_test)\n"
      ],
      "execution_count": 15,
      "outputs": []
    },
    {
      "cell_type": "code",
      "metadata": {
        "id": "mcUobz4KXZU9"
      },
      "source": [
        "predictions = scaler.inverse_transform(predictions)"
      ],
      "execution_count": 16,
      "outputs": []
    },
    {
      "cell_type": "code",
      "metadata": {
        "id": "jVADIT5dWS8s",
        "colab": {
          "base_uri": "https://localhost:8080/",
          "height": 111
        },
        "outputId": "64810ef7-b327-400c-e4f6-41e2efcc9b91"
      },
      "source": [
        "var=explained_variance_score(y_test, predictions) \n",
        "\n",
        "mae=mean_absolute_error(y_test, predictions)\n",
        "mse=mean_squared_error (y_test, predictions)\n",
        "rmse=np.sqrt(mse)\n",
        "r2=r2_score(y_test,predictions)  \n",
        "metric=[var,mae,mse,rmse,r2]\n",
        "evaluate=['Explained variance','MAE','MSE','RMSE','R^2']\n",
        "performance_evaluate=pd.DataFrame([evaluate,metric])\n",
        "performance_evaluate"
      ],
      "execution_count": 17,
      "outputs": [
        {
          "output_type": "execute_result",
          "data": {
            "text/html": [
              "<div>\n",
              "<style scoped>\n",
              "    .dataframe tbody tr th:only-of-type {\n",
              "        vertical-align: middle;\n",
              "    }\n",
              "\n",
              "    .dataframe tbody tr th {\n",
              "        vertical-align: top;\n",
              "    }\n",
              "\n",
              "    .dataframe thead th {\n",
              "        text-align: right;\n",
              "    }\n",
              "</style>\n",
              "<table border=\"1\" class=\"dataframe\">\n",
              "  <thead>\n",
              "    <tr style=\"text-align: right;\">\n",
              "      <th></th>\n",
              "      <th>0</th>\n",
              "      <th>1</th>\n",
              "      <th>2</th>\n",
              "      <th>3</th>\n",
              "      <th>4</th>\n",
              "    </tr>\n",
              "  </thead>\n",
              "  <tbody>\n",
              "    <tr>\n",
              "      <th>0</th>\n",
              "      <td>Explained variance</td>\n",
              "      <td>MAE</td>\n",
              "      <td>MSE</td>\n",
              "      <td>RMSE</td>\n",
              "      <td>R^2</td>\n",
              "    </tr>\n",
              "    <tr>\n",
              "      <th>1</th>\n",
              "      <td>0.0980412</td>\n",
              "      <td>133.311</td>\n",
              "      <td>24846.9</td>\n",
              "      <td>157.629</td>\n",
              "      <td>0.0940048</td>\n",
              "    </tr>\n",
              "  </tbody>\n",
              "</table>\n",
              "</div>"
            ],
            "text/plain": [
              "                    0        1        2        3          4\n",
              "0  Explained variance      MAE      MSE     RMSE        R^2\n",
              "1           0.0980412  133.311  24846.9  157.629  0.0940048"
            ]
          },
          "metadata": {},
          "execution_count": 17
        }
      ]
    },
    {
      "cell_type": "code",
      "metadata": {
        "id": "TthvuHUOUD1L",
        "colab": {
          "base_uri": "https://localhost:8080/",
          "height": 388
        },
        "outputId": "13f47e99-8164-4606-85a9-32fbe7885b42"
      },
      "source": [
        "# Visualize the data\n",
        "plt.figure(figsize=(14,6))\n",
        "plt.plot(history.history[\"loss\"], label=\"loss\")\n",
        "plt.xlabel(\"Epoch\")\n",
        "plt.ylabel(\"Loss\")\n",
        "plt.legend()\n",
        "plt.show()"
      ],
      "execution_count": 18,
      "outputs": [
        {
          "output_type": "display_data",
          "data": {
            "image/png": "[encoded data removed]",
            "text/plain": [
              "<Figure size 1008x432 with 1 Axes>"
            ]
          },
          "metadata": {
            "needs_background": "light"
          }
        }
      ]
    },
    {
      "cell_type": "code",
      "metadata": {
        "id": "6IqPKXgOc6Ys",
        "colab": {
          "base_uri": "https://localhost:8080/"
        },
        "outputId": "bfd8997f-e133-4ca4-baf6-292e7d578e2c"
      },
      "source": [
        "# Plot the data\n",
        "train = df[:training_data_len]\n",
        "valid = df[30:]\n",
        "valid['Predictions'] = predictions"
      ],
      "execution_count": 19,
      "outputs": [
        {
          "output_type": "stream",
          "text": [
            "/usr/local/lib/python3.7/dist-packages/ipykernel_launcher.py:4: SettingWithCopyWarning: \n",
            "A value is trying to be set on a copy of a slice from a DataFrame.\n",
            "Try using .loc[row_indexer,col_indexer] = value instead\n",
            "\n",
            "See the caveats in the documentation: https://pandas.pydata.org/pandas-docs/stable/user_guide/indexing.html#returning-a-view-versus-a-copy\n",
            "  after removing the cwd from sys.path.\n"
          ],
          "name": "stderr"
        }
      ]
    },
    {
      "cell_type": "code",
      "metadata": {
        "id": "pL_3jWbid22s",
        "colab": {
          "base_uri": "https://localhost:8080/"
        },
        "outputId": "5df074f0-e49a-47b4-fd29-48f44938e5d6"
      },
      "source": [
        "predictions.shape"
      ],
      "execution_count": 20,
      "outputs": [
        {
          "output_type": "execute_result",
          "data": {
            "text/plain": [
              "(4353, 1)"
            ]
          },
          "metadata": {},
          "execution_count": 20
        }
      ]
    },
    {
      "cell_type": "code",
      "metadata": {
        "id": "e7m9M5V7d-iM",
        "colab": {
          "base_uri": "https://localhost:8080/"
        },
        "outputId": "1c66a68e-67f5-4b81-f6f7-b6952de42c11"
      },
      "source": [
        "train.shape"
      ],
      "execution_count": 21,
      "outputs": [
        {
          "output_type": "execute_result",
          "data": {
            "text/plain": [
              "(3507, 1)"
            ]
          },
          "metadata": {},
          "execution_count": 21
        }
      ]
    },
    {
      "cell_type": "code",
      "metadata": {
        "id": "lezuC9Dyj9vk",
        "colab": {
          "base_uri": "https://localhost:8080/",
          "height": 374
        },
        "outputId": "ebeb9b21-3190-4243-b8a7-03f60b7c177d"
      },
      "source": [
        "# Visualize the data\n",
        "plt.figure(figsize=(14,6))\n",
        "plt.plot(valid['Consumption'], label=\"Traing\",c = \"b\")\n",
        "plt.plot(valid['Predictions'], label=\"predict\", c = \"r\")\n",
        "plt.legend()\n",
        "plt.show()"
      ],
      "execution_count": 22,
      "outputs": [
        {
          "output_type": "display_data",
          "data": {
            "image/png": "[encoded data removed]",
            "text/plain": [
              "<Figure size 1008x432 with 1 Axes>"
            ]
          },
          "metadata": {
            "needs_background": "light"
          }
        }
      ]
    },
    {
      "cell_type": "code",
      "metadata": {
        "colab": {
          "base_uri": "https://localhost:8080/",
          "height": 235
        },
        "id": "bsGjqlD5kGFg",
        "outputId": "e910d187-aee3-4547-9a38-677fd39084ca"
      },
      "source": [
        "valid.tail()"
      ],
      "execution_count": 23,
      "outputs": [
        {
          "output_type": "execute_result",
          "data": {
            "text/html": [
              "<div>\n",
              "<style scoped>\n",
              "    .dataframe tbody tr th:only-of-type {\n",
              "        vertical-align: middle;\n",
              "    }\n",
              "\n",
              "    .dataframe tbody tr th {\n",
              "        vertical-align: top;\n",
              "    }\n",
              "\n",
              "    .dataframe thead th {\n",
              "        text-align: right;\n",
              "    }\n",
              "</style>\n",
              "<table border=\"1\" class=\"dataframe\">\n",
              "  <thead>\n",
              "    <tr style=\"text-align: right;\">\n",
              "      <th></th>\n",
              "      <th>Consumption</th>\n",
              "      <th>Predictions</th>\n",
              "    </tr>\n",
              "    <tr>\n",
              "      <th>Date</th>\n",
              "      <th></th>\n",
              "      <th></th>\n",
              "    </tr>\n",
              "  </thead>\n",
              "  <tbody>\n",
              "    <tr>\n",
              "      <th>2017-12-27</th>\n",
              "      <td>1263.94091</td>\n",
              "      <td>1346.104736</td>\n",
              "    </tr>\n",
              "    <tr>\n",
              "      <th>2017-12-28</th>\n",
              "      <td>1299.86398</td>\n",
              "      <td>1340.138794</td>\n",
              "    </tr>\n",
              "    <tr>\n",
              "      <th>2017-12-29</th>\n",
              "      <td>1295.08753</td>\n",
              "      <td>1335.445312</td>\n",
              "    </tr>\n",
              "    <tr>\n",
              "      <th>2017-12-30</th>\n",
              "      <td>1215.44897</td>\n",
              "      <td>1331.709717</td>\n",
              "    </tr>\n",
              "    <tr>\n",
              "      <th>2017-12-31</th>\n",
              "      <td>1107.11488</td>\n",
              "      <td>1328.023804</td>\n",
              "    </tr>\n",
              "  </tbody>\n",
              "</table>\n",
              "</div>"
            ],
            "text/plain": [
              "            Consumption  Predictions\n",
              "Date                                \n",
              "2017-12-27   1263.94091  1346.104736\n",
              "2017-12-28   1299.86398  1340.138794\n",
              "2017-12-29   1295.08753  1335.445312\n",
              "2017-12-30   1215.44897  1331.709717\n",
              "2017-12-31   1107.11488  1328.023804"
            ]
          },
          "metadata": {},
          "execution_count": 23
        }
      ]
    },
    {
      "cell_type": "code",
      "metadata": {
        "id": "uI-ZSxDbyfhW"
      },
      "source": [
        ""
      ],
      "execution_count": null,
      "outputs": []
    }
  ]
}